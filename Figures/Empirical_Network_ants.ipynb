{
 "cells": [
  {
   "cell_type": "code",
   "execution_count": 1,
   "metadata": {},
   "outputs": [],
   "source": [
    "import networkx as nx\n",
    "import math\n",
    "import numpy as np\n",
    "import pandas as pd\n",
    "import random\n",
    "import matplotlib.pyplot as plt\n",
    "from networkx.algorithms import bipartite\n",
    "import sys\n",
    "import contextlib\n",
    "import networkx as nx\n",
    "import pandas as pd\n",
    "from ipynb.fs.defs.functions import *"
   ]
  },
  {
   "cell_type": "markdown",
   "metadata": {},
   "source": [
    "## Simulation of empirical networks\n",
    "This notebook outlines how to numerically simulate the fixation probability of a weighted empirical network. We demonstrate the process using the example of the ants colony weighted networks. The other empirical networks were similarly evaluated."
   ]
  },
  {
   "cell_type": "code",
   "execution_count": 2,
   "metadata": {},
   "outputs": [],
   "source": [
    "\n",
    "\n",
    "# Load the DataFrame\n",
    "ants = pd.read_csv(\"insecta-ant-trophallaxis-colony2.csv\")\n",
    "\n",
    "# Create an undirected graph\n",
    "G = nx.Graph()\n",
    "\n",
    "# Iterate through the DataFrame to update the network\n",
    "for index, row in ants.iterrows():\n",
    "    node1 = int(row['n1'])\n",
    "    node2 = int(row['n2'])\n",
    "    \n",
    "    # Check if the edge already exists\n",
    "    if G.has_edge(node1, node2):\n",
    "        # If the edge exists, increment the weight by one\n",
    "        G[node1][node2]['weight'] += 1\n",
    "    else:\n",
    "        # If the edge does not exist, add it with a weight of one\n",
    "        G.add_edge(node1, node2, weight=1)\n",
    "\n",
    "# Now G contains the undirected weighted network\n",
    "mapping = {39:0}\n",
    "Gprime = nx.relabel_nodes(G, mapping)"
   ]
  },
  {
   "cell_type": "code",
   "execution_count": null,
   "metadata": {},
   "outputs": [
    {
     "name": "stdout",
     "output_type": "stream",
     "text": [
      "starting computations on 40 cores\n"
     ]
    }
   ],
   "source": [
    "#Simulating the empirical network of ants\n",
    "import time\n",
    "from timeit import default_timer as timer\n",
    "from multiprocessing import Pool, cpu_count\n",
    "\n",
    "def main(j):\n",
    "    \n",
    "    start = timer()\n",
    "    arg=[]\n",
    "    c=[]\n",
    "\n",
    "    print(f'starting computations on {cpu_count()} cores')\n",
    "    \n",
    "    for i in range(0,cpu_count()):\n",
    "        arg.append((Gprime,350000,j))\n",
    "\n",
    "\n",
    "    with Pool() as pool:\n",
    "        c.append(pool.starmap(weighted_simulation_count, arg))\n",
    "        \n",
    "\n",
    "    end = timer()\n",
    "    print(f'elapsed time: {end - start}')\n",
    "    return (sum(c[0])/len(c[0]))\n",
    "\n",
    "if __name__ == '__main__':\n",
    "    c=[]\n",
    "    d_weighted_ants_39_nodes_new=[]\n",
    "    for k in range(7,17):\n",
    "        d_weighted_ants_39_nodes_new.append(main(k/10))\n",
    "        np.save('d_weighted_ants_39_nodes_new.npy' , np.array(d_weighted_ants_39_nodes_new))"
   ]
  }
 ],
 "metadata": {
  "kernelspec": {
   "display_name": "Python 3",
   "language": "python",
   "name": "python3"
  },
  "language_info": {
   "codemirror_mode": {
    "name": "ipython",
    "version": 3
   },
   "file_extension": ".py",
   "mimetype": "text/x-python",
   "name": "python",
   "nbconvert_exporter": "python",
   "pygments_lexer": "ipython3",
   "version": "3.8.5"
  }
 },
 "nbformat": 4,
 "nbformat_minor": 5
}
